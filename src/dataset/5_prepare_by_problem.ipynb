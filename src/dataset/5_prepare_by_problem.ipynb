{
 "cells": [
  {
   "cell_type": "code",
   "execution_count": 1,
   "metadata": {},
   "outputs": [],
   "source": [
    "import os \n",
    "import json\n",
    "import re\n",
    "from tqdm import tqdm "
   ]
  },
  {
   "cell_type": "code",
   "execution_count": 2,
   "metadata": {},
   "outputs": [
    {
     "name": "stdout",
     "output_type": "stream",
     "text": [
      "<class 'dict'>\n",
      "2057\n"
     ]
    }
   ],
   "source": [
    "test_out_times_path = \"/largespace/tydata/code_optimization/cpp/dataset/benchmark_gem5_testcases3/train_out_times.json\"\n",
    "with open(test_out_times_path, 'r') as f:\n",
    "    datasets = json.load(f)\n",
    "\n",
    "print(type(datasets))\n",
    "print(len(datasets))"
   ]
  },
  {
   "cell_type": "code",
   "execution_count": 3,
   "metadata": {},
   "outputs": [],
   "source": [
    "def make_pair_cross(sorted_problem_all_solutions):\n",
    "    length = len(sorted_problem_all_solutions)\n",
    "    pairs = []\n",
    "    for i in range(length):\n",
    "        for j in range(i+1, length):\n",
    "            slow = sorted_problem_all_solutions[i]\n",
    "            fast = sorted_problem_all_solutions[j]\n",
    "            pair = (slow[0], fast[0])\n",
    "            pairs.append(pair)\n",
    "            \n",
    "    return pairs"
   ]
  },
  {
   "cell_type": "code",
   "execution_count": 4,
   "metadata": {},
   "outputs": [],
   "source": [
    "def relative_improvement(slow:float, fast:float):\n",
    "    return round((slow - fast) / slow, 4)"
   ]
  },
  {
   "cell_type": "code",
   "execution_count": 8,
   "metadata": {},
   "outputs": [
    {
     "name": "stderr",
     "output_type": "stream",
     "text": [
      "100%|██████████| 2057/2057 [00:24<00:00, 85.67it/s] "
     ]
    },
    {
     "name": "stdout",
     "output_type": "stream",
     "text": [
      "all pairs count = 15886969\n"
     ]
    },
    {
     "name": "stderr",
     "output_type": "stream",
     "text": [
      "\n"
     ]
    }
   ],
   "source": [
    "all_items = []\n",
    "for problem_id, problem_solutions in tqdm(datasets.items()):\n",
    "    problem_all_solutions = {}\n",
    "    for user_id, user_solutions in problem_solutions.items():\n",
    "        for solution_id, time in user_solutions.items():\n",
    "            identifier = f\"{problem_id}_{user_id}_{solution_id}\"\n",
    "            problem_all_solutions[identifier] = time\n",
    "\n",
    "    # for all solutions for the problem\n",
    "    sorted_problem_all_solutions = sorted(problem_all_solutions.items(), key=lambda x: x[1], reverse=True) # List\n",
    "    pairs = make_pair_cross(sorted_problem_all_solutions)\n",
    "    \n",
    "    for pair in pairs:\n",
    "        slow_identifier = pair[0]\n",
    "        fast_identifier = pair[1]\n",
    "        slow_time = problem_all_solutions[slow_identifier]\n",
    "        fast_time = problem_all_solutions[fast_identifier]\n",
    "        improvement = relative_improvement(slow_time, fast_time)\n",
    "        if improvement > 0.0:\n",
    "            item = {\n",
    "                \"problem_id\": problem_id,\n",
    "                \"slow_identifier\": slow_identifier,\n",
    "                \"fast_identifier\": fast_identifier,\n",
    "                \"slow_time\": slow_time,\n",
    "                \"fast_time\": fast_time,\n",
    "                \"improvement\": improvement\n",
    "            }\n",
    "\n",
    "            all_items.append(item)\n",
    "\n",
    "print(f\"all pairs count = {len(all_items)}\")\n",
    "# with open(\"/largespace/tydata/code_optimization/cpp/dataset/by_problem/train_out_pair_improvement70.json\", 'w') as writer:\n",
    "#     json.dump(all_items, writer, indent=4)"
   ]
  },
  {
   "cell_type": "markdown",
   "metadata": {},
   "source": [
    "## Make pair for 3 items"
   ]
  },
  {
   "cell_type": "code",
   "execution_count": 12,
   "metadata": {},
   "outputs": [],
   "source": [
    "def make_pair_3item(sorted_problem_all_solutions):\n",
    "    length = len(sorted_problem_all_solutions)\n",
    "    pairs = []\n",
    "    if length < 3:\n",
    "        return pairs\n",
    "    for i in range(length):\n",
    "        for j in range(i+1, length):\n",
    "            for k in range(j+1, length):\n",
    "                slow = sorted_problem_all_solutions[i]\n",
    "                current = sorted_problem_all_solutions[j]\n",
    "                fast = sorted_problem_all_solutions[k]\n",
    "                pair = (slow[0], current[0], fast[0])\n",
    "                pairs.append(pair)\n",
    "            \n",
    "    return pairs"
   ]
  },
  {
   "cell_type": "code",
   "execution_count": 13,
   "metadata": {},
   "outputs": [
    {
     "name": "stderr",
     "output_type": "stream",
     "text": [
      " 28%|██▊       | 570/2057 [05:57<18:39,  1.33it/s]  "
     ]
    }
   ],
   "source": [
    "all_items = []\n",
    "for problem_id, problem_solutions in tqdm(datasets.items()):\n",
    "    problem_all_solutions = {}\n",
    "    for user_id, user_solutions in problem_solutions.items():\n",
    "        for solution_id, time in user_solutions.items():\n",
    "            identifier = f\"{problem_id}_{user_id}_{solution_id}\"\n",
    "            problem_all_solutions[identifier] = time\n",
    "\n",
    "    # for all solutions for the problem\n",
    "    sorted_problem_all_solutions = sorted(problem_all_solutions.items(), key=lambda x: x[1], reverse=True) # List\n",
    "    pairs = make_pair_3item(sorted_problem_all_solutions)\n",
    "    \n",
    "    for pair in pairs:\n",
    "        slow_identifier = pair[0]\n",
    "        current_identifier = pair[1]\n",
    "        fast_identifier = pair[2]\n",
    "        slow_time = problem_all_solutions[slow_identifier]\n",
    "        current_time = problem_all_solutions[current_identifier]\n",
    "        fast_time = problem_all_solutions[fast_identifier]\n",
    "        improvement = relative_improvement(current_time, fast_time)\n",
    "        if improvement > 0.0:\n",
    "            item = {\n",
    "                \"problem_id\": problem_id,\n",
    "                \"slow_identifier\": slow_identifier,\n",
    "                \"fast_identifier\": fast_identifier,\n",
    "                \"slow_time\": slow_time,\n",
    "                \"fast_time\": fast_time,\n",
    "                \"improvement\": improvement\n",
    "            }\n",
    "\n",
    "            all_items.append(item)\n",
    "\n",
    "print(f\"all pairs count = {len(all_items)}\")"
   ]
  },
  {
   "cell_type": "code",
   "execution_count": 46,
   "metadata": {},
   "outputs": [
    {
     "name": "stdout",
     "output_type": "stream",
     "text": [
      "all items count = 14051\n"
     ]
    },
    {
     "name": "stderr",
     "output_type": "stream",
     "text": [
      "  0%|          | 0/14051 [00:00<?, ?it/s]"
     ]
    },
    {
     "name": "stderr",
     "output_type": "stream",
     "text": [
      "100%|██████████| 14051/14051 [00:00<00:00, 35663.81it/s]\n"
     ]
    }
   ],
   "source": [
    "with open(\"/largespace/tydata/code_optimization/cpp/dataset/by_problem/train_out_pair_improvement90.json\", 'r') as reader:\n",
    "    all_items = json.load(reader)\n",
    "\n",
    "print(f\"all items count = {len(all_items)}\")\n",
    "\n",
    "for item in tqdm(all_items):\n",
    "    problem_id = item[\"problem_id\"]\n",
    "\n",
    "    slow_identifier = item[\"slow_identifier\"]\n",
    "    slow_parts = slow_identifier.split(\"_\")\n",
    "    slow_user_id = slow_parts[1]\n",
    "    slow_submission_id = slow_parts[2]\n",
    "\n",
    "\n",
    "    fast_identifier = item[\"fast_identifier\"]\n",
    "    fast_parts = fast_identifier.split(\"_\")\n",
    "    fast_user_id = fast_parts[1]\n",
    "    fast_submission_id = fast_parts[2]\n",
    "\n",
    "    slow_cpp_file_path = os.path.join(\"/largespace/tydata/code_optimization/cpp/dataset/cpp_code/train\", f\"{problem_id}_{slow_submission_id}_{slow_user_id}.cpp\")\n",
    "    with open(slow_cpp_file_path, 'r') as f_slow:\n",
    "        slow_cpp_content = f_slow.read()\n",
    "    slow_code = slow_cpp_content\n",
    "\n",
    "    fast_cpp_file_path = os.path.join(\"/largespace/tydata/code_optimization/cpp/dataset/cpp_code/train\", f\"{problem_id}_{fast_submission_id}_{fast_user_id}.cpp\")\n",
    "    with open(fast_cpp_file_path, 'r') as f_fast:\n",
    "        fast_cpp_content = f_fast.read()\n",
    "    fast_code = fast_cpp_content\n",
    "\n",
    "    item[\"slow_code\"] = slow_code\n",
    "    item[\"fast_code\"] = fast_code\n",
    "\n",
    "with open(\"/largespace/tydata/code_optimization/cpp/dataset/by_problem/train_out_pair_improvement90_code.json\", 'w') as writer:\n",
    "    json.dump(all_items, writer, indent=4)\n",
    "\n"
   ]
  }
 ],
 "metadata": {
  "kernelspec": {
   "display_name": "llama",
   "language": "python",
   "name": "python3"
  },
  "language_info": {
   "codemirror_mode": {
    "name": "ipython",
    "version": 3
   },
   "file_extension": ".py",
   "mimetype": "text/x-python",
   "name": "python",
   "nbconvert_exporter": "python",
   "pygments_lexer": "ipython3",
   "version": "3.10.14"
  }
 },
 "nbformat": 4,
 "nbformat_minor": 2
}
