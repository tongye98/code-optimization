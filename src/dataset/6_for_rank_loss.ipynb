{
 "cells": [
  {
   "cell_type": "code",
   "execution_count": 9,
   "metadata": {},
   "outputs": [],
   "source": [
    "import os \n",
    "import json "
   ]
  },
  {
   "cell_type": "code",
   "execution_count": 10,
   "metadata": {},
   "outputs": [
    {
     "name": "stdout",
     "output_type": "stream",
     "text": [
      "/largespace/tydata/code_optimization/cpp/dataset/by_user/train_out_pair_improvement10_description.json\n"
     ]
    }
   ],
   "source": [
    "data_path = \"/largespace/tydata/code_optimization/cpp/dataset/by_user/train_out_pair_improvement10_description.json\"\n",
    "print(data_path)"
   ]
  },
  {
   "cell_type": "code",
   "execution_count": 11,
   "metadata": {},
   "outputs": [
    {
     "name": "stdout",
     "output_type": "stream",
     "text": [
      "The size of dataset = 56086\n"
     ]
    }
   ],
   "source": [
    "with open(data_path, 'r') as reader:\n",
    "    dataset = json.load(reader)\n",
    "\n",
    "print(f\"The size of dataset = {len(dataset)}\")"
   ]
  },
  {
   "cell_type": "code",
   "execution_count": 12,
   "metadata": {},
   "outputs": [],
   "source": [
    "def for_rank(item):\n",
    "    slow_code = item[\"slow_code\"]\n",
    "    fast_code = item[\"fast_code\"]\n",
    "    new_item = {\n",
    "        \"original_slow_code\": slow_code,\n",
    "        \"code_solution\": [fast_code, slow_code],\n",
    "        \"system\": \"\"\n",
    "    }\n",
    "    return new_item"
   ]
  },
  {
   "cell_type": "code",
   "execution_count": 13,
   "metadata": {},
   "outputs": [
    {
     "name": "stderr",
     "output_type": "stream",
     "text": [
      "100%|██████████| 56086/56086 [00:00<00:00, 595301.53it/s]\n"
     ]
    }
   ],
   "source": [
    "from tqdm import tqdm \n",
    "new_items = []\n",
    "for item in tqdm(dataset):\n",
    "    new_item = for_rank(item)\n",
    "    new_items.append(new_item)\n",
    "\n",
    "with open(\"/largespace/tydata/code_optimization/cpp/dataset/by_user/train_out_pair_improvement10_description_dpo2.json\", 'w') as writer:\n",
    "    json.dump(new_items, writer, indent=4)"
   ]
  }
 ],
 "metadata": {
  "kernelspec": {
   "display_name": "llama",
   "language": "python",
   "name": "python3"
  },
  "language_info": {
   "codemirror_mode": {
    "name": "ipython",
    "version": 3
   },
   "file_extension": ".py",
   "mimetype": "text/x-python",
   "name": "python",
   "nbconvert_exporter": "python",
   "pygments_lexer": "ipython3",
   "version": "3.10.14"
  }
 },
 "nbformat": 4,
 "nbformat_minor": 2
}
